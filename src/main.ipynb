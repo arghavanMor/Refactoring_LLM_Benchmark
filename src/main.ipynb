{
 "cells": [
  {
   "cell_type": "markdown",
   "metadata": {},
   "source": [
    "1. Activate .venv environnement \"source ./.venv/bin/activate\"\n",
    "2. Provide the path for the DeepSeek and GPT API keys\n",
    "3. Insert a copy of Fowler's \"Refactoring: Improve the design of existing code\" 2nd edition inside the \"Data\" folder as \"Fowler.pdf\""
   ]
  },
  {
   "cell_type": "code",
   "execution_count": null,
   "metadata": {},
   "outputs": [],
   "source": [
    "#TODO fill api keys paths\n",
    "gpt_api_key_path = \"\" #i.e. \"\"/../OpenAI_key.txt\"\"\n",
    "deepseek_api_key_path = \"\" "
   ]
  },
  {
   "cell_type": "markdown",
   "metadata": {},
   "source": [
    "We start by extracting the content Fowler's book into a JSON"
   ]
  },
  {
   "cell_type": "code",
   "execution_count": null,
   "metadata": {},
   "outputs": [],
   "source": [
    "from pdf_extractor import fowlerpdf_to_json\n",
    "\n",
    "fowlerpdf_to_json()"
   ]
  },
  {
   "cell_type": "markdown",
   "metadata": {},
   "source": [
    "Next step is to prompt both GPT and DeepSeek and save their output inside JSON files. We run each prompt 5 times, but the value can be modified.\n",
    "\n",
    "We also clean to ouput of the LLMs."
   ]
  },
  {
   "cell_type": "code",
   "execution_count": null,
   "metadata": {},
   "outputs": [],
   "source": [
    "from tqdm import tqdm\n",
    "from prompt_generator import generate_llm_json, clean_llm_output\n",
    "\n",
    "NB_RUNS = 5\n",
    "GPT_RUN_OUTPUT_PREFIX = \"gpt_run#\"\n",
    "DEEPSEEK_RUN_OUTPUT_PREFIX = \"ds_run#\"\n",
    "\n",
    "GPT_MODEL_NAME = \"gpt-4o-mini\"\n",
    "DEEPSEEK_MODEL_NAME = \"deepseek-chat\"\n",
    "\n",
    "for x in tqdm(range(NB_RUNS)):\n",
    "    gpt_filename = GPT_RUN_OUTPUT_PREFIX + str(x) + \".json\"\n",
    "    ds_filename = DEEPSEEK_RUN_OUTPUT_PREFIX + str(x) + \".json\"\n",
    "\n",
    "    generate_llm_json(filename=gpt_filename, api_key_path=gpt_api_key_path, model_name=GPT_MODEL_NAME)\n",
    "    generate_llm_json(filename=ds_filename, api_key_path= deepseek_api_key_path, model_name=DEEPSEEK_MODEL_NAME)\n",
    "\n",
    "    clean_llm_output(filename=gpt_filename)\n",
    "    clean_llm_output(filename=ds_filename)\n"
   ]
  },
  {
   "cell_type": "markdown",
   "metadata": {},
   "source": [
    "!!! NEED TO ADD JC's PART HERE !!!"
   ]
  },
  {
   "cell_type": "markdown",
   "metadata": {},
   "source": [
    "Next part is data analysis. We start with the metrics calculations. And the we proceed with CodeBLEU calculations."
   ]
  },
  {
   "cell_type": "code",
   "execution_count": null,
   "metadata": {},
   "outputs": [],
   "source": [
    "# When using pyccmetrics, we need version 0.20.1 of tree sitter\n",
    "!pip install tree-sitter==0.20.1"
   ]
  },
  {
   "cell_type": "code",
   "execution_count": null,
   "metadata": {},
   "outputs": [],
   "source": [
    "from metrics_calculator import combine_runs_into_json\n",
    "\n",
    "combine_runs_into_json(nb_runs=NB_RUNS)"
   ]
  },
  {
   "cell_type": "code",
   "execution_count": null,
   "metadata": {},
   "outputs": [],
   "source": [
    "# codebleu library requires version 0.23.1 of tree sitter\n",
    "!pip install tree-sitter==0.23.1"
   ]
  },
  {
   "cell_type": "code",
   "execution_count": null,
   "metadata": {},
   "outputs": [],
   "source": [
    "from codebleu_calculator import add_codebleu_to_raw_data\n",
    "\n",
    "add_codebleu_to_raw_data(nb_runs=NB_RUNS)"
   ]
  },
  {
   "cell_type": "markdown",
   "metadata": {},
   "source": []
  }
 ],
 "metadata": {
  "kernelspec": {
   "display_name": ".venv",
   "language": "python",
   "name": "python3"
  },
  "language_info": {
   "codemirror_mode": {
    "name": "ipython",
    "version": 3
   },
   "file_extension": ".py",
   "mimetype": "text/x-python",
   "name": "python",
   "nbconvert_exporter": "python",
   "pygments_lexer": "ipython3",
   "version": "3.12.3"
  }
 },
 "nbformat": 4,
 "nbformat_minor": 2
}
